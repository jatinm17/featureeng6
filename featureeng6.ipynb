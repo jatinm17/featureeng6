{
 "cells": [
  {
   "cell_type": "code",
   "execution_count": 1,
   "id": "4700df09-ab14-4735-bc18-20f074132d0a",
   "metadata": {},
   "outputs": [],
   "source": [
    "# COVARIANCE AND CORRELATION"
   ]
  },
  {
   "cell_type": "code",
   "execution_count": 3,
   "id": "c997416b-e330-4e5a-9eea-9b8645045157",
   "metadata": {},
   "outputs": [
    {
     "name": "stdout",
     "output_type": "stream",
     "text": [
      "[[1.         0.99020158]\n",
      " [0.99020158 1.        ]]\n"
     ]
    }
   ],
   "source": [
    "#QUESTION 1\n",
    "import numpy as np\n",
    "\n",
    "# Sample data: Time spent studying (X) and Exam scores (Y)\n",
    "study_time = [10, 12, 6, 8, 14, 9, 11, 13, 7, 5]\n",
    "exam_scores = [85, 88, 75, 78, 92, 82, 86, 90, 77, 70]\n",
    "\n",
    "ans=np.corrcoef(study_time,exam_scores)\n",
    "print(ans)\n",
    "\n"
   ]
  },
  {
   "cell_type": "code",
   "execution_count": 4,
   "id": "0c36dd10-9faf-4daa-9b81-99c4ec96788f",
   "metadata": {},
   "outputs": [
    {
     "name": "stdout",
     "output_type": "stream",
     "text": [
      "Spearman's Rank Correlation Coefficient: 0.9621498977614039\n"
     ]
    }
   ],
   "source": [
    "# QUES 2\n",
    "import numpy as np\n",
    "from scipy.stats import spearmanr\n",
    "\n",
    "sleep = [7, 6, 8, 5, 6, 9, 7, 5, 8, 7]\n",
    "job_satisfaction = [8, 7, 9, 4, 6, 9, 8, 5, 9, 7]\n",
    "\n",
    "# Calculate Spearman's rank correlation coefficient\n",
    "spearman_corr_coeff, _ = spearmanr(sleep, job_satisfaction)\n",
    "\n",
    "print(\"Spearman's Rank Correlation Coefficient:\", spearman_corr_coeff)\n",
    "\n"
   ]
  },
  {
   "cell_type": "code",
   "execution_count": 6,
   "id": "8c5d934f-5a08-479a-a331-204e19879ba9",
   "metadata": {},
   "outputs": [
    {
     "name": "stdout",
     "output_type": "stream",
     "text": [
      "Pearson Correlation Coefficient: 0.9594071785923405\n",
      "Spearman's Rank Correlation Coefficient: 0.9579972669068865\n"
     ]
    }
   ],
   "source": [
    "#QUES 3\n",
    "import numpy as np\n",
    "from scipy.stats import pearsonr, spearmanr\n",
    "\n",
    "# Sample data: Number of hours of exercise per week and BMI\n",
    "exercise_hours = [3, 5, 2, 4, 6, 1, 2, 3, 4, 5, 2, 3, 6, 4, 5, 1, 2, 3, 4, 5,\n",
    "                  1, 2, 3, 4, 5, 2, 3, 6, 4, 5, 1, 2, 3, 4, 5, 2, 3, 4, 5, 1,\n",
    "                  2, 3, 4, 5, 2, 3, 4, 5, 6, 7]\n",
    "\n",
    "bmi = [23.5, 25.2, 22.1, 24.8, 26.9, 21.0, 22.3, 23.6, 25.1, 26.3, 22.4, 23.0,\n",
    "       27.8, 25.5, 26.2, 20.5, 21.8, 23.1, 24.5, 25.9, 19.8, 20.9, 22.0, 23.4,\n",
    "       24.7, 21.7, 22.9, 28.1, 24.6, 25.8, 20.1, 21.3, 22.7, 23.9, 25.0, 21.6,\n",
    "       22.8, 24.0, 25.4, 19.9, 20.8, 22.2, 23.3, 24.4, 21.5, 22.6, 23.7, 24.9,\n",
    "       26.0, 29.0]\n",
    "\n",
    "pearson_corr_coeff, _ = pearsonr(exercise_hours, bmi)\n",
    "\n",
    "spearman_corr_coeff, _ = spearmanr(exercise_hours, bmi)\n",
    "\n",
    "print(\"Pearson Correlation Coefficient:\", pearson_corr_coeff)\n",
    "print(\"Spearman's Rank Correlation Coefficient:\", spearman_corr_coeff)\n"
   ]
  },
  {
   "cell_type": "code",
   "execution_count": 7,
   "id": "6a6af2b4-4384-40ef-8347-a922b6e4b884",
   "metadata": {},
   "outputs": [
    {
     "name": "stdout",
     "output_type": "stream",
     "text": [
      "Pearson Correlation Coefficient: 0.9798185729575076\n"
     ]
    }
   ],
   "source": [
    "# QUES 4\n",
    "import numpy as np\n",
    "from scipy.stats import pearsonr\n",
    "\n",
    "tv_hours = [3, 5, 2, 4, 6, 1, 2, 3, 4, 5, 2, 3, 6, 4, 5, 1, 2, 3, 4, 5,\n",
    "            1, 2, 3, 4, 5, 2, 3, 6, 4, 5, 1, 2, 3, 4, 5, 2, 3, 4, 5, 1,\n",
    "            2, 3, 4, 5, 2, 3, 4, 5, 6, 7]\n",
    "\n",
    "physical_activity = [2.5, 4.2, 1.8, 3.9, 5.6, 0.8, 1.7, 2.8, 3.9, 4.5, 1.9, 2.7,\n",
    "                     6.3, 3.8, 4.9, 0.6, 1.4, 2.9, 3.3, 5.1, 0.5, 1.2, 2.6, 3.5,\n",
    "                     4.8, 1.3, 2.4, 5.9, 4.4, 5.0, 0.4, 1.0, 2.2, 3.1, 4.6, 1.1,\n",
    "                     2.3, 3.7, 4.7, 0.7, 1.3, 2.1, 3.2, 4.0, 1.6, 2.0, 3.0, 4.2,\n",
    "                     5.5, 6.8]\n",
    "\n",
    "pearson_corr_coeff, _ = pearsonr(tv_hours, physical_activity)\n",
    "\n",
    "print(\"Pearson Correlation Coefficient:\", pearson_corr_coeff)\n"
   ]
  },
  {
   "cell_type": "code",
   "execution_count": 17,
   "id": "92392bb9-a648-4339-9dce-3c2edb900902",
   "metadata": {},
   "outputs": [
    {
     "name": "stdout",
     "output_type": "stream",
     "text": [
      "Point-Biserial Correlation Coefficient: 0.7587035441865057\n"
     ]
    }
   ],
   "source": [
    "# QUESTION 5\n",
    "import pandas as pd\n",
    "from scipy.stats import pearsonr\n",
    "\n",
    "data = {\n",
    "    'Age': [25, 42, 37, 19, 31, 28],\n",
    "    'Soft_Drink_Preference': [1, 2, 3, 1, 2, 1]  # 1: Coke, 2: Pepsi, 3: Mountain Dew\n",
    "}\n",
    "\n",
    "df = pd.DataFrame(data)\n",
    "\n",
    "\n",
    "correlation_coefficient, _ = pearsonr(df['Age'], df['Soft_Drink_Preference'])\n",
    "\n",
    "print(\"Pearson Correlation Coefficient:\", correlation_coefficient)\n"
   ]
  },
  {
   "cell_type": "code",
   "execution_count": 18,
   "id": "d3944477-7d43-4be2-abbd-66ea18eb9a82",
   "metadata": {},
   "outputs": [
    {
     "name": "stdout",
     "output_type": "stream",
     "text": [
      "Pearson Correlation Coefficient: 1.0\n"
     ]
    }
   ],
   "source": [
    "# QUES 6\n",
    "import pandas as pd\n",
    "import numpy as np\n",
    "\n",
    "data = {\n",
    "    'Sales_Calls_Per_Day': [20, 15, 25, 18, 30, 22, 12, 27, 17, 24, \n",
    "                            21, 19, 29, 16, 23, 13, 26, 14, 28, 31, \n",
    "                            32, 35, 34, 33, 36, 37, 40, 38, 39, 41],\n",
    "    'Sales_Per_Week': [120, 90, 150, 108, 180, 132, 72, 162, 102, 144,\n",
    "                       126, 114, 174, 96, 138, 78, 156, 84, 168, 186,\n",
    "                       192, 210, 204, 198, 216, 222, 240, 228, 234, 246]\n",
    "}\n",
    "\n",
    "df = pd.DataFrame(data)\n",
    "\n",
    "correlation_coefficient = np.corrcoef(df['Sales_Calls_Per_Day'], df['Sales_Per_Week'])[0, 1]\n",
    "\n",
    "print(\"Pearson Correlation Coefficient:\", correlation_coefficient)\n"
   ]
  },
  {
   "cell_type": "code",
   "execution_count": null,
   "id": "820d3bff-9f87-4230-918c-96a26cc85ff7",
   "metadata": {},
   "outputs": [],
   "source": []
  }
 ],
 "metadata": {
  "kernelspec": {
   "display_name": "Python 3 (ipykernel)",
   "language": "python",
   "name": "python3"
  },
  "language_info": {
   "codemirror_mode": {
    "name": "ipython",
    "version": 3
   },
   "file_extension": ".py",
   "mimetype": "text/x-python",
   "name": "python",
   "nbconvert_exporter": "python",
   "pygments_lexer": "ipython3",
   "version": "3.10.8"
  }
 },
 "nbformat": 4,
 "nbformat_minor": 5
}
